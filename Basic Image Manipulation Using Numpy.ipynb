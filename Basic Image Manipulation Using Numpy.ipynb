{
 "cells": [
  {
   "cell_type": "code",
   "execution_count": 1,
   "id": "832a75f3",
   "metadata": {
    "executionInfo": {
     "elapsed": 1269,
     "status": "ok",
     "timestamp": 1669038041819,
     "user": {
      "displayName": "Aman Srivastava",
      "userId": "04420457835109732366"
     },
     "user_tz": -330
    },
    "id": "832a75f3"
   },
   "outputs": [],
   "source": [
    "import pandas as pd\n",
    "import numpy as np\n",
    "from skimage import io\n",
    "from skimage import util\n",
    "import matplotlib.pyplot as plt"
   ]
  },
  {
   "cell_type": "code",
   "execution_count": 2,
   "id": "7d62e54a",
   "metadata": {
    "executionInfo": {
     "elapsed": 3,
     "status": "ok",
     "timestamp": 1669038043689,
     "user": {
      "displayName": "Aman Srivastava",
      "userId": "04420457835109732366"
     },
     "user_tz": -330
    },
    "id": "7d62e54a"
   },
   "outputs": [],
   "source": [
    "#horizontal flip\n",
    "def func1():\n",
    "    temp=np_image[:,::-1]\n",
    "    plt.imshow(temp)"
   ]
  },
  {
   "cell_type": "code",
   "execution_count": 3,
   "id": "5d95f154",
   "metadata": {
    "executionInfo": {
     "elapsed": 2,
     "status": "ok",
     "timestamp": 1669038045516,
     "user": {
      "displayName": "Aman Srivastava",
      "userId": "04420457835109732366"
     },
     "user_tz": -330
    },
    "id": "5d95f154"
   },
   "outputs": [],
   "source": [
    "#vertical flip\n",
    "def func2():\n",
    "    temp=np_image[::-1,:]\n",
    "    plt.imshow(temp)"
   ]
  },
  {
   "cell_type": "code",
   "execution_count": 4,
   "id": "8b30cc35",
   "metadata": {
    "executionInfo": {
     "elapsed": 11,
     "status": "ok",
     "timestamp": 1669038047812,
     "user": {
      "displayName": "Aman Srivastava",
      "userId": "04420457835109732366"
     },
     "user_tz": -330
    },
    "id": "8b30cc35"
   },
   "outputs": [],
   "source": [
    "#for inversion\n",
    "def func3():\n",
    "    temp=util.invert(np_image)\n",
    "    plt.imshow(temp)"
   ]
  },
  {
   "cell_type": "code",
   "execution_count": 5,
   "id": "d8ef0c40",
   "metadata": {
    "executionInfo": {
     "elapsed": 682,
     "status": "ok",
     "timestamp": 1669038079735,
     "user": {
      "displayName": "Aman Srivastava",
      "userId": "04420457835109732366"
     },
     "user_tz": -330
    },
    "id": "d8ef0c40"
   },
   "outputs": [],
   "source": [
    "#for grayscale\n",
    "def func4():\n",
    "    temp=io.imread('img1.jpg',as_gray=True)\n",
    "    plt.imshow(temp)"
   ]
  },
  {
   "cell_type": "code",
   "execution_count": null,
   "id": "e608dd1c",
   "metadata": {
    "colab": {
     "base_uri": "https://localhost:8080/",
     "height": 859
    },
    "executionInfo": {
     "elapsed": 41107,
     "status": "ok",
     "timestamp": 1669038397324,
     "user": {
      "displayName": "Aman Srivastava",
      "userId": "04420457835109732366"
     },
     "user_tz": -330
    },
    "id": "e608dd1c",
    "outputId": "0b9fbe7f-3ac7-4f2e-a748-577178f1426f"
   },
   "outputs": [
    {
     "name": "stdout",
     "output_type": "stream",
     "text": [
      "Welcome to the mini-project\n",
      "Enter your choices\n",
      "1: for image loading \n",
      " 2: for editing \n",
      " 3 for saving\n",
      " 4: for exit\n",
      "Enter your choice:1\n",
      "Enter your choices\n",
      "1: for image loading \n",
      " 2: for editing \n",
      " 3 for saving\n",
      " 4: for exit\n",
      "Enter your choice:2\n",
      "How you want to edit\n",
      " 1 for hor flip\n",
      " 2 for vertical flip \n",
      " 3 for invert colors\n",
      " 4 for grayscale\n",
      " 5 for black ans white\n",
      "\n",
      "Enter your choice:1\n",
      "Enter your choices\n",
      "1: for image loading \n",
      " 2: for editing \n",
      " 3 for saving\n",
      " 4: for exit\n",
      "Enter your choice:1\n",
      "Enter your choices\n",
      "1: for image loading \n",
      " 2: for editing \n",
      " 3 for saving\n",
      " 4: for exit\n",
      "Enter your choice:3\n",
      "Image is saved\n",
      "Enter your choices\n",
      "1: for image loading \n",
      " 2: for editing \n",
      " 3 for saving\n",
      " 4: for exit\n",
      "Enter your choice:1\n",
      "Enter your choices\n",
      "1: for image loading \n",
      " 2: for editing \n",
      " 3 for saving\n",
      " 4: for exit\n"
     ]
    }
   ],
   "source": [
    "print(\"Welcome to the mini-project\")\n",
    "t=1\n",
    "while t:\n",
    "    print(\"Enter your choices\")\n",
    "    print(\"1: for image loading \\n 2: for editing \\n 3 for saving\\n 4: for exit\")\n",
    "    choice=int(input(\"Enter your choice:\"))\n",
    "    if choice == 1:\n",
    "        np_image=io.imread('img1.jpg')\n",
    "        plt.imshow(np_image)\n",
    "    elif choice == 2:\n",
    "        print(\"How you want to edit\\n 1 for hor flip\\n 2 for vertical flip \\n 3 for invert colors\\n 4 for grayscale\\n 5 for black ans white\\n\")\n",
    "        fin=int(input(\"Enter your choice:\"))\n",
    "        if fin==1:\n",
    "            func1()\n",
    "        elif fin==2:\n",
    "            func2()\n",
    "        elif fin==3:\n",
    "            func3()\n",
    "        elif fin==4:\n",
    "            func4()\n",
    "        else:\n",
    "            continue\n",
    "    elif choice == 3:\n",
    "        print(\"Image is saved\")\n",
    "    else:\n",
    "        t=0"
   ]
  },
  {
   "cell_type": "code",
   "execution_count": null,
   "id": "77a2eed8",
   "metadata": {
    "id": "77a2eed8"
   },
   "outputs": [],
   "source": []
  },
  {
   "cell_type": "code",
   "execution_count": null,
   "id": "e3e016be",
   "metadata": {},
   "outputs": [],
   "source": []
  },
  {
   "cell_type": "code",
   "execution_count": null,
   "id": "b3662323",
   "metadata": {},
   "outputs": [],
   "source": []
  },
  {
   "cell_type": "code",
   "execution_count": null,
   "id": "993420f0",
   "metadata": {},
   "outputs": [],
   "source": []
  },
  {
   "cell_type": "code",
   "execution_count": null,
   "id": "c76b6233",
   "metadata": {},
   "outputs": [],
   "source": []
  },
  {
   "cell_type": "code",
   "execution_count": null,
   "id": "be793781",
   "metadata": {},
   "outputs": [],
   "source": []
  },
  {
   "cell_type": "code",
   "execution_count": null,
   "id": "5a6f7937",
   "metadata": {},
   "outputs": [],
   "source": []
  },
  {
   "cell_type": "code",
   "execution_count": null,
   "id": "c6926339",
   "metadata": {},
   "outputs": [],
   "source": []
  },
  {
   "cell_type": "code",
   "execution_count": null,
   "id": "a5028dcf",
   "metadata": {},
   "outputs": [],
   "source": []
  },
  {
   "cell_type": "code",
   "execution_count": null,
   "id": "27c89a7e",
   "metadata": {},
   "outputs": [],
   "source": []
  }
 ],
 "metadata": {
  "colab": {
   "provenance": [
    {
     "file_id": "13rKqybrE6u0OHDclbyuY_AJXg-4YXHY2",
     "timestamp": 1669038600332
    }
   ]
  },
  "kernelspec": {
   "display_name": "Python 3 (ipykernel)",
   "language": "python",
   "name": "python3"
  },
  "language_info": {
   "codemirror_mode": {
    "name": "ipython",
    "version": 3
   },
   "file_extension": ".py",
   "mimetype": "text/x-python",
   "name": "python",
   "nbconvert_exporter": "python",
   "pygments_lexer": "ipython3",
   "version": "3.9.13"
  }
 },
 "nbformat": 4,
 "nbformat_minor": 5
}
